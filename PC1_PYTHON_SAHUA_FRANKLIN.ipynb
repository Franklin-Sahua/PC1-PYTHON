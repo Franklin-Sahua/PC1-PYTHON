{
  "nbformat": 4,
  "nbformat_minor": 0,
  "metadata": {
    "colab": {
      "provenance": [],
      "toc_visible": true
    },
    "kernelspec": {
      "name": "python3",
      "display_name": "Python 3"
    },
    "language_info": {
      "name": "python"
    }
  },
  "cells": [
    {
      "cell_type": "markdown",
      "source": [
        "#PC1"
      ],
      "metadata": {
        "id": "-sVCrEr4p6sQ"
      }
    },
    {
      "cell_type": "markdown",
      "source": [
        "## Variables:"
      ],
      "metadata": {
        "id": "feDdnJerqAI2"
      }
    },
    {
      "cell_type": "markdown",
      "source": [
        "Problema 1:\n",
        " Escribir un programa que solicite su nombre de usuario por consola y después de que el usuario lo\n",
        " introduzca muestre por pantalla la cadena “¡Hola <nombre>!”, donde <nombre> es el nombre que el\n",
        " usuario haya introducido."
      ],
      "metadata": {
        "id": "PMRocjKFiM4Y"
      }
    },
    {
      "cell_type": "code",
      "metadata": {
        "colab": {
          "base_uri": "https://localhost:8080/"
        },
        "id": "dad606ce",
        "outputId": "f283fd4b-66fc-4981-b939-2c5bcc3fb5bf"
      },
      "source": [
        ".# Problema 1\n",
        "nombre = input(\"Introduce tu nombre de usuario: \")\n",
        "print(f\"¡Hola {nombre}!\")"
      ],
      "execution_count": null,
      "outputs": [
        {
          "output_type": "stream",
          "name": "stdout",
          "text": [
            "Introduce tu nombre de usuario: Franklin\n",
            "¡Hola Franklin!\n"
          ]
        }
      ]
    },
    {
      "cell_type": "markdown",
      "source": [
        "Problema 2:\n",
        " En los Estados Unidos, se acostumbra dejar una propina a su mesero después de cenar en un\n",
        " restaurante, generalmente una cantidad igual al 15% o más del costo de su comida.\n",
        " Escriba un programa que pregunte al usuario cuánto fue su consumo en el restaurante y que\n",
        " porcentaje de propina desea dejar al mesero. Su programa debe devolver la cantidad de dinero a\n",
        " dejar como propina."
      ],
      "metadata": {
        "id": "F7ayT2x1jvQ0"
      }
    },
    {
      "cell_type": "code",
      "metadata": {
        "colab": {
          "base_uri": "https://localhost:8080/"
        },
        "id": "8ff9fb8a",
        "outputId": "5345b2c2-4d38-4ac0-a9f1-6dba06f1da5d"
      },
      "source": [
        "# Problema 2\n",
        "consumo = float(input(\"¿Cuánto fue su consumo en el restaurante? \"))\n",
        "porcentaje_propina = float(input(\"¿Qué porcentaje de propina desea dejar? \"))\n",
        "\n",
        "cantidad_propina = consumo * (porcentaje_propina / 100)\n",
        "\n",
        "print(f\"La cantidad a dejar como propina es: {cantidad_propina:.2f}\")"
      ],
      "execution_count": null,
      "outputs": [
        {
          "output_type": "stream",
          "name": "stdout",
          "text": [
            "¿Cuánto fue su consumo en el restaurante? 200\n",
            "¿Qué porcentaje de propina desea dejar? 20\n",
            "La cantidad a dejar como propina es: 40.00\n"
          ]
        }
      ]
    },
    {
      "cell_type": "markdown",
      "source": [
        "Problema 3:\n",
        "Una juguetería tiene mucho éxito en dos de sus productos: payasos y muñecas. Suele hacer venta\n",
        " por correo y la empresa de logística les cobra por peso de cada paquete así que deben calcular el\n",
        " peso de los payasos y muñecas que saldrán en cada paquete a demanda. Cada payaso pesa 112 g y\n",
        " cada muñeca 75 g. Escribir un programa que lea el número de payasos y muñecas vendidos en el\n",
        " último pedido y calcule el peso total del paquete que será enviado."
      ],
      "metadata": {
        "id": "ToxMZ1DVjvOU"
      }
    },
    {
      "cell_type": "code",
      "metadata": {
        "colab": {
          "base_uri": "https://localhost:8080/"
        },
        "id": "8d894005",
        "outputId": "32641c6e-3622-46e9-adbc-f9c921c0f03b"
      },
      "source": [
        "# Problema 3\n",
        "peso_payaso = 112\n",
        "peso_muneca = 75\n",
        "\n",
        "num_payasos = int(input(\"Introduce el número de payasos vendidos: \"))\n",
        "num_munecas = int(input(\"Introduce el número de muñecas vendidas: \"))\n",
        "\n",
        "peso_total = (num_payasos * peso_payaso) + (num_munecas * peso_muneca)\n",
        "\n",
        "print(f\"El peso total del paquete es: {peso_total} g\")"
      ],
      "execution_count": null,
      "outputs": [
        {
          "output_type": "stream",
          "name": "stdout",
          "text": [
            "Introduce el número de payasos vendidos: 75\n",
            "Introduce el número de muñecas vendidas: 42\n",
            "El peso total del paquete es: 11550 g\n"
          ]
        }
      ]
    },
    {
      "cell_type": "markdown",
      "source": [
        "Problema 4:\n",
        "Escribir un programa que lea un entero positivo, N, introducido por el usuario y después muestre en\n",
        " pantalla la suma de todos los enteros desde 1 hasta N. La suma de los N primeros enteros positivos\n",
        " puede ser calculada de la siguiente forma:"
      ],
      "metadata": {
        "id": "S7eLBhVBjvL0"
      }
    },
    {
      "cell_type": "code",
      "metadata": {
        "colab": {
          "base_uri": "https://localhost:8080/"
        },
        "id": "e4329335",
        "outputId": "bde17b67-8ea6-47cf-96be-f7f920195836"
      },
      "source": [
        "# Problema 4\n",
        "n = int(input(\"Introduce un entero positivo N: \"))\n",
        "\n",
        "suma = n * (n + 1) // 2\n",
        "\n",
        "print(f\"La suma de los enteros desde 1 hasta {n} es: {suma}\")"
      ],
      "execution_count": null,
      "outputs": [
        {
          "output_type": "stream",
          "name": "stdout",
          "text": [
            "Introduce un entero positivo N: 20\n",
            "La suma de los enteros desde 1 hasta 20 es: 210\n"
          ]
        }
      ]
    },
    {
      "cell_type": "markdown",
      "source": [
        "##Condicionales:"
      ],
      "metadata": {
        "id": "c9ePaNu9qFE9"
      }
    },
    {
      "cell_type": "markdown",
      "source": [
        " Problema 5:\n",
        " Escribir un programa que solicite al usuario que ingrese cuántos shows musicales ha visto en el\n",
        " último año y almacene ese número en una variable. A continuación, mostrar en pantalla un valor de\n",
        " verdad (True o False  - tipo de datos booleanos) que indique si el usuario ha visto más de 3 shows."
      ],
      "metadata": {
        "id": "FJ0kNFlwjvI8"
      }
    },
    {
      "cell_type": "code",
      "metadata": {
        "colab": {
          "base_uri": "https://localhost:8080/"
        },
        "id": "c6dee1d7",
        "outputId": "347cdda5-995d-4a36-ef05-5afb78dfc878"
      },
      "source": [
        "# Problema 5\n",
        "shows_vistos = int(input(\"¿Cuántos shows musicales has visto en el último año? \"))\n",
        "\n",
        "ha_visto_mas_de_3 = shows_vistos > 3\n",
        "\n",
        "print(f\"¿Ha visto más de 3 shows? {ha_visto_mas_de_3}\")"
      ],
      "execution_count": null,
      "outputs": [
        {
          "output_type": "stream",
          "name": "stdout",
          "text": [
            "¿Cuántos shows musicales has visto en el último año? 5\n",
            "¿Ha visto más de 3 shows? True\n"
          ]
        }
      ]
    },
    {
      "cell_type": "markdown",
      "source": [
        " Problema 6:\n",
        " Escribir un programa para una empresa que tiene salas de juegos para todas las edades y quiere\n",
        " calcular de forma automática el precio que debe cobrar a sus clientes por entrar. El programa debe\n",
        " preguntar al usuario la edad del cliente y mostrar el precio de la entrada. Si el cliente es menor de 4\n",
        " años puede entrar gratis, si tiene entre 4 y 18 años debe pagar $5 y si es mayor de 18 años, S10."
      ],
      "metadata": {
        "id": "oVXhilgpjvF0"
      }
    },
    {
      "cell_type": "code",
      "metadata": {
        "colab": {
          "base_uri": "https://localhost:8080/"
        },
        "id": "4e939832",
        "outputId": "f8908fe0-dc22-4ac8-a93b-8ddef6c7bb4f"
      },
      "source": [
        "# Problema 6\n",
        "edad = int(input(\"Introduce la edad del cliente: \"))\n",
        "\n",
        "if edad < 4:\n",
        "    precio = 0\n",
        "elif 4 <= edad <= 18:\n",
        "    precio = 5\n",
        "else:\n",
        "    precio = 10\n",
        "\n",
        "print(f\"El precio de la entrada es: ${precio}\")"
      ],
      "execution_count": null,
      "outputs": [
        {
          "output_type": "stream",
          "name": "stdout",
          "text": [
            "Introduce la edad del cliente: 24\n",
            "El precio de la entrada es: $10\n"
          ]
        }
      ]
    },
    {
      "cell_type": "markdown",
      "source": [
        " Problema 7:\n",
        " Realiza un programa que lea dos números por teclado y permite elegir entre 3 opciones en un menú:----\n",
        " Mostrar una suma de los dos números\n",
        " Mostrar una resta de los dos números (el primero menos el segundo)\n",
        " Mostrar una multiplicación de los dos números\n",
        " En caso de introducir una opción inválida, el programa informará de que no es correcta."
      ],
      "metadata": {
        "id": "Rk2kFHaxjvAs"
      }
    },
    {
      "cell_type": "code",
      "metadata": {
        "colab": {
          "base_uri": "https://localhost:8080/"
        },
        "id": "08920a73",
        "outputId": "20fdf1b1-2deb-45a5-e547-5a0396c81007"
      },
      "source": [
        "# Problema 7\n",
        "num1 = float(input(\"Introduce el primer número: \"))\n",
        "num2 = float(input(\"Introduce el segundo número: \"))\n",
        "\n",
        "print(\"\\nMenú:\")\n",
        "print(\"1. Suma\")\n",
        "print(\"2. Resta\")\n",
        "print(\"3. Multiplicación\")\n",
        "\n",
        "opcion = input(\"Elige una opción (1, 2 o 3): \")\n",
        "\n",
        "if opcion == '1':\n",
        "    resultado = num1 + num2\n",
        "    print(f\"La suma es: {resultado}\")\n",
        "elif opcion == '2':\n",
        "    resultado = num1 - num2\n",
        "    print(f\"La resta es: {resultado}\")\n",
        "elif opcion == '3':\n",
        "    resultado = num1 * num2\n",
        "    print(f\"La multiplicación es: {resultado}\")\n",
        "else:\n",
        "    print(\"Opción inválida.\")"
      ],
      "execution_count": null,
      "outputs": [
        {
          "output_type": "stream",
          "name": "stdout",
          "text": [
            "Introduce el primer número: 30\n",
            "Introduce el segundo número: 20\n",
            "\n",
            "Menú:\n",
            "1. Suma\n",
            "2. Resta\n",
            "3. Multiplicación\n",
            "Elige una opción (1, 2 o 3): 3\n",
            "La multiplicación es: 600.0\n"
          ]
        }
      ]
    },
    {
      "cell_type": "markdown",
      "source": [
        " Problema 8:\n",
        " Supongamos que estás en un país donde se acostumbra desayunar entre las 7:00 y las 8:00, almorzar\n",
        " entre las 12:00 y las 13:00 y cenar entre las 18:00 y las 19:00.\n",
        " Implemente un programa que solicite al usuario una hora y le indique si es la hora del desayuno, la\n",
        " hora del almuerzo o la hora de la cena. Si no es hora de comer, no envíes nada.\n",
        " Suponga que la entrada del usuario se formatea en formato de 24 horas como #:## o ##:##. Y\n",
        " suponga que el rango de tiempo de cada comida es inclusivo. Por ejemplo, ya sean las 7:00, las 7:01,\n",
        " las 7:59 o las 8:00, o en cualquier momento intermedio, es hora de desayunar."
      ],
      "metadata": {
        "id": "7JkkE4Wuju28"
      }
    },
    {
      "cell_type": "code",
      "metadata": {
        "colab": {
          "base_uri": "https://localhost:8080/"
        },
        "id": "3d33a921",
        "outputId": "409a6a5a-a88c-490e-8a68-405282599db5"
      },
      "source": [
        "# Problema 8\n",
        "hora_str = input(\"Introduce la hora en formato #:## o ##:##: \")\n",
        "\n",
        "horas, minutos = map(int, hora_str.split(':'))\n",
        "hora_decimal = horas + minutos / 60\n",
        "\n",
        "if 7 <= hora_decimal <= 8:\n",
        "    print(\"Es hora del desayuno.\")\n",
        "elif 12 <= hora_decimal <= 13:\n",
        "    print(\"Es hora del almuerzo.\")\n",
        "elif 18 <= hora_decimal <= 19:\n",
        "    print(\"Es hora de la cena.\")"
      ],
      "execution_count": null,
      "outputs": [
        {
          "output_type": "stream",
          "name": "stdout",
          "text": [
            "Introduce la hora en formato #:## o ##:##: 7:30\n",
            "Es hora del desayuno.\n"
          ]
        }
      ]
    },
    {
      "cell_type": "markdown",
      "source": [
        "##Colecciones de Datos:"
      ],
      "metadata": {
        "id": "JKa1SgX9sz3z"
      }
    },
    {
      "cell_type": "markdown",
      "source": [
        " Problema 9:\n",
        " Escriba un programa que, dada una lista, devuelve una nueva lista cuyo contenido sea igual a la\n",
        " original pero invertida. Así, dada la lista ['Di', 'buen', 'día', 'a', 'papa'], deberá devolver ['papa', 'a',\n",
        " 'día', 'buen', 'Di']."
      ],
      "metadata": {
        "id": "PgKcJ_K2utCs"
      }
    },
    {
      "cell_type": "code",
      "source": [
        "# Problema 9\n",
        "\n",
        "lista = ['Di', 'buen', 'día', 'a', 'papa']\n",
        "\n",
        "\n",
        "lista_invertida = lista[::-1]\n",
        "\n",
        "print(\"Lista invertida:\", lista_invertida)\n"
      ],
      "metadata": {
        "colab": {
          "base_uri": "https://localhost:8080/"
        },
        "id": "eEi8gm0HvDF4",
        "outputId": "f54ad699-543c-4e3e-ea76-5be36e397263"
      },
      "execution_count": null,
      "outputs": [
        {
          "output_type": "stream",
          "name": "stdout",
          "text": [
            "Lista invertida: ['papa', 'a', 'día', 'buen', 'Di']\n"
          ]
        }
      ]
    },
    {
      "cell_type": "markdown",
      "source": [
        "Problema 10: Escriba un programa para imprimir una lista específica después de eliminar los elementos que se\n",
        " encuentran en la posición 0, 4 y 5.\n",
        " lista de muestra: ['Rojo', 'Verde', 'Blanco', 'Negro', 'Rosa', 'Amarillo']\n",
        " Resultado esperado: ['Verde', 'Blanco', 'Negro']"
      ],
      "metadata": {
        "id": "ujLw22xKusPk"
      }
    },
    {
      "cell_type": "code",
      "source": [
        "# Problema 10\n",
        "lista = ['Rojo', 'Verde', 'Blanco', 'Negro', 'Rosa', 'Amarillo']\n",
        "\n",
        "\n",
        "lista_filtrada = [elemento for i, elemento in enumerate(lista) if i not in [0, 4, 5]]\n",
        "\n",
        "print(\"Lista filtrada:\", lista_filtrada)\n"
      ],
      "metadata": {
        "colab": {
          "base_uri": "https://localhost:8080/"
        },
        "id": "lTJlEjAMvIwu",
        "outputId": "cf2a5bcf-2316-4c84-cdd3-f6e5f611d8be"
      },
      "execution_count": null,
      "outputs": [
        {
          "output_type": "stream",
          "name": "stdout",
          "text": [
            "Lista filtrada: ['Verde', 'Blanco', 'Negro']\n"
          ]
        }
      ]
    },
    {
      "cell_type": "markdown",
      "source": [
        "Problema 11:\n",
        " Escriba un programa Python que se encargue de eliminar los elementos duplicados de la siguiente\n",
        " lista. Su programa debe retornar otra lista sin los duplicados.\n",
        " Lista original: [1, 1, 2, 3, 4, 4, 5, 1]\n",
        " Lista procesada: [1, 2, 3, 4,, 5]"
      ],
      "metadata": {
        "id": "PESwlaTJusIU"
      }
    },
    {
      "cell_type": "code",
      "source": [
        "# Problema 11\n",
        "lista_original = [1, 1, 2, 3, 4, 4, 5, 1]\n",
        "\n",
        "\n",
        "lista_sin_duplicados = []\n",
        "for elemento in lista_original:\n",
        "    if elemento not in lista_sin_duplicados:\n",
        "        lista_sin_duplicados.append(elemento)\n",
        "\n",
        "print(\"Lista sin duplicados:\", lista_sin_duplicados)\n"
      ],
      "metadata": {
        "colab": {
          "base_uri": "https://localhost:8080/"
        },
        "id": "gZZllad5vUC0",
        "outputId": "384209b8-fefb-484d-ab64-046812f08f2b"
      },
      "execution_count": null,
      "outputs": [
        {
          "output_type": "stream",
          "name": "stdout",
          "text": [
            "Lista sin duplicados: [1, 2, 3, 4, 5]\n"
          ]
        }
      ]
    },
    {
      "cell_type": "markdown",
      "source": [
        "Problema 12:\n",
        " La mayoría de los archivos tienen extensiones de archivo, el cual es un sufijo que comienza con un\n",
        " punto (.) al final de su nombre. Por ejemplo, los nombres de archivo para GIF terminan en .gif y los\n",
        " nombres de archivo para JPEG terminan en .jpg o .jpeg. Mientras que en los sistemas operativos\n",
        " como Windows, el tipo de archivo le sirve al computador abrir el archivo en el formato apropiado, en\n",
        " la web esto es distinto.  Los navegadores web, por el contrario, se basan en tipos de medios,\n",
        " anteriormente conocidos como tipos MIME, para determinar cómo mostrar los archivos que viven en\n",
        " la web. Implemente un programa que solicite al usuario el nombre de un archivo y luego genere el tipo de\n",
        " archivo MIME correspondiente. Si el nombre del archivo termina en cualquiera de estos sufijos (sin\n",
        " importar el uso de mayúsculas y minúsculas) :------\n",
        "\n",
        ".gif\n",
        "\n",
        " .jpg\n",
        "\n",
        " .jpeg\n",
        "\n",
        " .png\n",
        "\n",
        " .pdf\n",
        "\n",
        " .txt\n",
        "\n",
        " .zip\n",
        "\n",
        " Si el nombre del archivo termina con algún otro sufijo que no se encuentra en la lista o no tiene\n",
        " ningún sufijo, en su lugar su programa deberá devolver application/octet-stream."
      ],
      "metadata": {
        "id": "A9rM6pQRurvU"
      }
    },
    {
      "cell_type": "code",
      "metadata": {
        "colab": {
          "base_uri": "https://localhost:8080/"
        },
        "id": "ebcc708c",
        "outputId": "cd273acf-6623-4625-d6f9-7940efd44b7b"
      },
      "source": [
        "# Problema 12\n",
        "nombre_archivo = input(\"Introduce el nombre del archivo: \").lower()\n",
        "\n",
        "if nombre_archivo.endswith(\".gif\"):\n",
        "    mime_type = \"image/gif\"\n",
        "elif nombre_archivo.endswith(\".jpg\") or nombre_archivo.endswith(\".jpeg\"):\n",
        "    mime_type = \"image/jpeg\"\n",
        "elif nombre_archivo.endswith(\".png\"):\n",
        "    mime_type = \"image/png\"\n",
        "elif nombre_archivo.endswith(\".pdf\"):\n",
        "    mime_type = \"application/pdf\"\n",
        "elif nombre_archivo.endswith(\".txt\"):\n",
        "    mime_type = \"text/plain\"\n",
        "elif nombre_archivo.endswith(\".zip\"):\n",
        "    mime_type = \"application/zip\"\n",
        "else:\n",
        "    mime_type = \"application/octet-stream\"\n",
        "\n",
        "print(f\"El tipo MIME del archivo es: {mime_type}\")"
      ],
      "execution_count": null,
      "outputs": [
        {
          "output_type": "stream",
          "name": "stdout",
          "text": [
            "Introduce el nombre del archivo: copa del mundo 2018.png\n",
            "El tipo MIME del archivo es: image/png\n"
          ]
        }
      ]
    }
  ]
}